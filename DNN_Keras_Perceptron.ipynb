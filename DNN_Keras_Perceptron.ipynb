{
 "cells": [
  {
   "cell_type": "code",
   "execution_count": 12,
   "metadata": {},
   "outputs": [],
   "source": [
    "import matplotlib.pyplot as plt\n",
    "import numpy as np\n",
    "from keras.layers import *\n",
    "from keras.models import *\n",
    "from keras.utils import *\n",
    "from collections import Counter"
   ]
  },
  {
   "cell_type": "code",
   "execution_count": 17,
   "metadata": {},
   "outputs": [
    {
     "name": "stdout",
     "output_type": "stream",
     "text": [
      "_________________________________________________________________\n",
      "Layer (type)                 Output Shape              Param #   \n",
      "=================================================================\n",
      "dense_12 (Dense)             (None, 1)                 2         \n",
      "=================================================================\n",
      "Total params: 2\n",
      "Trainable params: 2\n",
      "Non-trainable params: 0\n",
      "_________________________________________________________________\n",
      "Epoch 1/20\n",
      "1000/1000 [==============================] - 0s 130us/step - loss: 2.4326\n",
      "Epoch 2/20\n",
      "1000/1000 [==============================] - 0s 12us/step - loss: 0.0878\n",
      "Epoch 3/20\n",
      "1000/1000 [==============================] - 0s 13us/step - loss: 0.0691\n",
      "Epoch 4/20\n",
      "1000/1000 [==============================] - 0s 12us/step - loss: 0.0559\n",
      "Epoch 5/20\n",
      "1000/1000 [==============================] - 0s 12us/step - loss: 0.0446\n",
      "Epoch 6/20\n",
      "1000/1000 [==============================] - 0s 12us/step - loss: 0.0350\n",
      "Epoch 7/20\n",
      "1000/1000 [==============================] - 0s 12us/step - loss: 0.0284\n",
      "Epoch 8/20\n",
      "1000/1000 [==============================] - 0s 12us/step - loss: 0.0223\n",
      "Epoch 9/20\n",
      "1000/1000 [==============================] - 0s 12us/step - loss: 0.0177\n",
      "Epoch 10/20\n",
      "1000/1000 [==============================] - 0s 12us/step - loss: 0.0141\n",
      "Epoch 11/20\n",
      "1000/1000 [==============================] - 0s 12us/step - loss: 0.0111\n",
      "Epoch 12/20\n",
      "1000/1000 [==============================] - 0s 12us/step - loss: 0.0088\n",
      "Epoch 13/20\n",
      "1000/1000 [==============================] - 0s 12us/step - loss: 0.0070\n",
      "Epoch 14/20\n",
      "1000/1000 [==============================] - 0s 12us/step - loss: 0.0056\n",
      "Epoch 15/20\n",
      "1000/1000 [==============================] - 0s 12us/step - loss: 0.0044\n",
      "Epoch 16/20\n",
      "1000/1000 [==============================] - 0s 11us/step - loss: 0.0035\n",
      "Epoch 17/20\n",
      "1000/1000 [==============================] - 0s 12us/step - loss: 0.0028\n",
      "Epoch 18/20\n",
      "1000/1000 [==============================] - 0s 12us/step - loss: 0.0022\n",
      "Epoch 19/20\n",
      "1000/1000 [==============================] - 0s 13us/step - loss: 0.0018\n",
      "Epoch 20/20\n",
      "1000/1000 [==============================] - 0s 12us/step - loss: 0.0014\n",
      "[[25.06545 ]\n",
      " [29.090023]]\n"
     ]
    },
    {
     "data": {
      "image/png": "[encoded data removed]",
      "text/plain": [
       "<Figure size 432x288 with 1 Axes>"
      ]
     },
     "metadata": {
      "needs_background": "light"
     },
     "output_type": "display_data"
    },
    {
     "name": "stdout",
     "output_type": "stream",
     "text": [
      "[array([[2.0122857]], dtype=float32), array([0.9180229], dtype=float32)]\n"
     ]
    }
   ],
   "source": [
    "x = np.linspace(1, 10, 1000) # x를 1~10까지 구간을 1000등분해서 입력함\n",
    "y = 2 * x + 1 # 넘파이를 쓰면 각각 배열에 곱해서 씀\n",
    "\n",
    "model = Sequential() # tree 구조인데 그냥 기본이 되는 구조를 시작하기 위해 주는 것 \n",
    "\n",
    "#Dense layer\n",
    "model.add(Dense(1, activation='linear', input_shape=(1,))) \n",
    "# 1. output 사이즈 정하기 - 다음 뉴런의 숫자, 2.activation 정하기(왠만하면 relu를 쓸거), 3. input feature 정하기(feature에 뉴런넷에 )\n",
    "\n",
    "model.summary() #각각 파라미터를 볼 수 있는 디버깅 함수\n",
    "model.compile(loss='mse', optimizer='sgd') # error함수, optimzer(알고리즘) 함수 gradientdescent\n",
    "\n",
    "model.fit(x, y, epochs=20) #trining 함수\n",
    "\n",
    "# 임의의 수를 넣어 학습한 결과를 알아봄\n",
    "pred_x = []\n",
    "pred_x = np.append(pred_x, 12)\n",
    "pred_x = np.append(pred_x, 14)\n",
    "\n",
    "pred_y = model.predict(pred_x)\n",
    "\n",
    "print(pred_y)\n",
    "\n",
    "# 그래프를 활용하여 볼 수 있음\n",
    "plt.plot(x, y)\n",
    "plt.scatter(pred_x, pred_y)\n",
    "plt.show()\n",
    "\n",
    "print(model.get_weights())"
   ]
  }
 ],
 "metadata": {
  "kernelspec": {
   "display_name": "Python 3",
   "language": "python",
   "name": "python3"
  },
  "language_info": {
   "codemirror_mode": {
    "name": "ipython",
    "version": 3
   },
   "file_extension": ".py",
   "mimetype": "text/x-python",
   "name": "python",
   "nbconvert_exporter": "python",
   "pygments_lexer": "ipython3",
   "version": "3.7.4"
  }
 },
 "nbformat": 4,
 "nbformat_minor": 2
}
