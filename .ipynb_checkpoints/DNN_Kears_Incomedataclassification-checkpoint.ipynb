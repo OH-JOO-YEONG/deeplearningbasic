{
 "cells": [
  {
   "cell_type": "code",
   "execution_count": 1,
   "metadata": {},
   "outputs": [
    {
     "name": "stderr",
     "output_type": "stream",
     "text": [
      "Using TensorFlow backend.\n"
     ]
    }
   ],
   "source": [
    "import matplotlib.pyplot as plt\n",
    "import numpy as np\n",
    "import pandas as pd\n",
    "from keras.layers import *\n",
    "from keras.models import *\n",
    "from keras.utils import *\n",
    "from sklearn.preprocessing import *\n",
    "import seaborn as sns\n",
    "%matplotlib inline"
   ]
  },
  {
   "cell_type": "code",
   "execution_count": 2,
   "metadata": {},
   "outputs": [
    {
     "data": {
      "text/plain": [
       "['age', 'fnlwgt', 'educational-num', 'cg', 'cl', 'hw']"
      ]
     },
     "execution_count": 2,
     "metadata": {},
     "output_type": "execute_result"
    }
   ],
   "source": [
    "'''\n",
    "age: continuous. \n",
    "workclass: Private, Self-emp-not-inc, Self-emp-inc, Federal-gov, Local-gov, State-gov, Without-pay, Never-worked. \n",
    "fnlwgt: continuous. \n",
    "education: Bachelors, Some-college, 11th, HS-grad, Prof-school, Assoc-acdm, Assoc-voc, 9th, 7th-8th, 12th, Masters, 1st-4th, 10th, Doctorate, 5th-6th, Preschool. \n",
    "education-num: continuous. \n",
    "marital-status: Married-civ-spouse, Divorced, Never-married, Separated, Widowed, Married-spouse-absent, Married-AF-spouse. \n",
    "occupation: Tech-support, Craft-repair, Other-service, Sales, Exec-managerial, Prof-specialty, Handlers-cleaners, Machine-op-inspct, Adm-clerical, Farming-fishing, Transport-moving, Priv-house-serv, Protective-serv, Armed-Forces. \n",
    "relationship: Wife, Own-child, Husband, Not-in-family, Other-relative, Unmarried. \n",
    "race: White, Asian-Pac-Islander, Amer-Indian-Eskimo, Other, Black. \n",
    "sex: Female, Male. \n",
    "capital-gain: continuous. \n",
    "capital-loss: continuous. \n",
    "hours-per-week: continuous. \n",
    "native-country: United-States, Cambodia, England, Puerto-Rico, Canada, Germany, Outlying-US(Guam-USVI-etc), India, Japan, Greece, South, China, Cuba, Iran, Honduras, Philippines, Italy, Poland, Jamaica, Vietnam, Mexico, Portugal, Ireland, France, Dominican-Republic, Laos, Ecuador, Taiwan, Haiti, Columbia, Hungary, Guatemala, Nicaragua, Scotland, Thailand, Yugoslavia, El-Salvador, Trinadad&Tobago, Peru, Hong, Holand-Netherlands.\n",
    "'''\n",
    "['age', 'fnlwgt', 'educational-num', 'cg', 'cl', 'hw']"
   ]
  },
  {
   "cell_type": "code",
   "execution_count": 3,
   "metadata": {},
   "outputs": [],
   "source": [
    "\n",
    "\n",
    "df = pd.read_csv('adult.data',index_col=False,\n",
    "                names=['age', 'workclass', 'fnlwgt', 'education', 'education-num', \n",
    "                       'mari', 'occupation', 'relationship', 'race', 'sex', 'cg', 'cl', 'hw', 'na', '5k'])\n",
    "\n",
    "# df.count()\n",
    "# df.isnull().any() #null값이 있는지 확인, null이 있으면 없애주거나 추가해줘야함\n"
   ]
  },
  {
   "cell_type": "code",
   "execution_count": 4,
   "metadata": {},
   "outputs": [
    {
     "name": "stdout",
     "output_type": "stream",
     "text": [
      "[[0. 1.]\n",
      " [0. 1.]\n",
      " [0. 1.]\n",
      " ...\n",
      " [0. 1.]\n",
      " [0. 1.]\n",
      " [1. 0.]]\n"
     ]
    }
   ],
   "source": [
    "# sns.countplot('5k', hue='sex', data=df)\n",
    "# sns.heatmap(df.corr(), annot=True, cmap='summer_r', linewidths=0.2)\n",
    "# plt.figure(figsize=(9, 9))\n",
    "# sns.violinplot('race', 'age', hue='5k', data=df, split=True)\n",
    "\n",
    "Y = df['5k'].values.tolist()\n",
    "Y = [1 if i == ' <=50K' else 0 for i in Y]\n",
    "Y = to_categorical(Y)\n",
    "print(Y)"
   ]
  },
  {
   "cell_type": "code",
   "execution_count": 5,
   "metadata": {},
   "outputs": [
    {
     "data": {
      "text/html": [
       "<div>\n",
       "<style scoped>\n",
       "    .dataframe tbody tr th:only-of-type {\n",
       "        vertical-align: middle;\n",
       "    }\n",
       "\n",
       "    .dataframe tbody tr th {\n",
       "        vertical-align: top;\n",
       "    }\n",
       "\n",
       "    .dataframe thead th {\n",
       "        text-align: right;\n",
       "    }\n",
       "</style>\n",
       "<table border=\"1\" class=\"dataframe\">\n",
       "  <thead>\n",
       "    <tr style=\"text-align: right;\">\n",
       "      <th></th>\n",
       "      <th>workclass_ Federal-gov</th>\n",
       "      <th>workclass_ Local-gov</th>\n",
       "      <th>workclass_ Never-worked</th>\n",
       "      <th>workclass_ Private</th>\n",
       "      <th>workclass_ Self-emp-inc</th>\n",
       "      <th>workclass_ Self-emp-not-inc</th>\n",
       "      <th>workclass_ State-gov</th>\n",
       "      <th>workclass_ Without-pay</th>\n",
       "      <th>education_ 11th</th>\n",
       "      <th>education_ 12th</th>\n",
       "      <th>...</th>\n",
       "      <th>na_ Trinadad&amp;Tobago</th>\n",
       "      <th>na_ United-States</th>\n",
       "      <th>na_ Vietnam</th>\n",
       "      <th>na_ Yugoslavia</th>\n",
       "      <th>age</th>\n",
       "      <th>fnlwgt</th>\n",
       "      <th>education-num</th>\n",
       "      <th>cg</th>\n",
       "      <th>cl</th>\n",
       "      <th>hw</th>\n",
       "    </tr>\n",
       "  </thead>\n",
       "  <tbody>\n",
       "    <tr>\n",
       "      <th>0</th>\n",
       "      <td>0</td>\n",
       "      <td>0</td>\n",
       "      <td>0</td>\n",
       "      <td>0</td>\n",
       "      <td>0</td>\n",
       "      <td>0</td>\n",
       "      <td>1</td>\n",
       "      <td>0</td>\n",
       "      <td>0</td>\n",
       "      <td>0</td>\n",
       "      <td>...</td>\n",
       "      <td>0</td>\n",
       "      <td>1</td>\n",
       "      <td>0</td>\n",
       "      <td>0</td>\n",
       "      <td>0.301370</td>\n",
       "      <td>0.044302</td>\n",
       "      <td>0.800000</td>\n",
       "      <td>0.02174</td>\n",
       "      <td>0.0</td>\n",
       "      <td>0.397959</td>\n",
       "    </tr>\n",
       "    <tr>\n",
       "      <th>1</th>\n",
       "      <td>0</td>\n",
       "      <td>0</td>\n",
       "      <td>0</td>\n",
       "      <td>0</td>\n",
       "      <td>0</td>\n",
       "      <td>1</td>\n",
       "      <td>0</td>\n",
       "      <td>0</td>\n",
       "      <td>0</td>\n",
       "      <td>0</td>\n",
       "      <td>...</td>\n",
       "      <td>0</td>\n",
       "      <td>1</td>\n",
       "      <td>0</td>\n",
       "      <td>0</td>\n",
       "      <td>0.452055</td>\n",
       "      <td>0.048238</td>\n",
       "      <td>0.800000</td>\n",
       "      <td>0.00000</td>\n",
       "      <td>0.0</td>\n",
       "      <td>0.122449</td>\n",
       "    </tr>\n",
       "    <tr>\n",
       "      <th>2</th>\n",
       "      <td>0</td>\n",
       "      <td>0</td>\n",
       "      <td>0</td>\n",
       "      <td>1</td>\n",
       "      <td>0</td>\n",
       "      <td>0</td>\n",
       "      <td>0</td>\n",
       "      <td>0</td>\n",
       "      <td>0</td>\n",
       "      <td>0</td>\n",
       "      <td>...</td>\n",
       "      <td>0</td>\n",
       "      <td>1</td>\n",
       "      <td>0</td>\n",
       "      <td>0</td>\n",
       "      <td>0.287671</td>\n",
       "      <td>0.138113</td>\n",
       "      <td>0.533333</td>\n",
       "      <td>0.00000</td>\n",
       "      <td>0.0</td>\n",
       "      <td>0.397959</td>\n",
       "    </tr>\n",
       "    <tr>\n",
       "      <th>3</th>\n",
       "      <td>0</td>\n",
       "      <td>0</td>\n",
       "      <td>0</td>\n",
       "      <td>1</td>\n",
       "      <td>0</td>\n",
       "      <td>0</td>\n",
       "      <td>0</td>\n",
       "      <td>0</td>\n",
       "      <td>1</td>\n",
       "      <td>0</td>\n",
       "      <td>...</td>\n",
       "      <td>0</td>\n",
       "      <td>1</td>\n",
       "      <td>0</td>\n",
       "      <td>0</td>\n",
       "      <td>0.493151</td>\n",
       "      <td>0.151068</td>\n",
       "      <td>0.400000</td>\n",
       "      <td>0.00000</td>\n",
       "      <td>0.0</td>\n",
       "      <td>0.397959</td>\n",
       "    </tr>\n",
       "    <tr>\n",
       "      <th>4</th>\n",
       "      <td>0</td>\n",
       "      <td>0</td>\n",
       "      <td>0</td>\n",
       "      <td>1</td>\n",
       "      <td>0</td>\n",
       "      <td>0</td>\n",
       "      <td>0</td>\n",
       "      <td>0</td>\n",
       "      <td>0</td>\n",
       "      <td>0</td>\n",
       "      <td>...</td>\n",
       "      <td>0</td>\n",
       "      <td>0</td>\n",
       "      <td>0</td>\n",
       "      <td>0</td>\n",
       "      <td>0.150685</td>\n",
       "      <td>0.221488</td>\n",
       "      <td>0.800000</td>\n",
       "      <td>0.00000</td>\n",
       "      <td>0.0</td>\n",
       "      <td>0.397959</td>\n",
       "    </tr>\n",
       "  </tbody>\n",
       "</table>\n",
       "<p>5 rows × 100 columns</p>\n",
       "</div>"
      ],
      "text/plain": [
       "   workclass_ Federal-gov  workclass_ Local-gov  workclass_ Never-worked  \\\n",
       "0                       0                     0                        0   \n",
       "1                       0                     0                        0   \n",
       "2                       0                     0                        0   \n",
       "3                       0                     0                        0   \n",
       "4                       0                     0                        0   \n",
       "\n",
       "   workclass_ Private  workclass_ Self-emp-inc  workclass_ Self-emp-not-inc  \\\n",
       "0                   0                        0                            0   \n",
       "1                   0                        0                            1   \n",
       "2                   1                        0                            0   \n",
       "3                   1                        0                            0   \n",
       "4                   1                        0                            0   \n",
       "\n",
       "   workclass_ State-gov  workclass_ Without-pay  education_ 11th  \\\n",
       "0                     1                       0                0   \n",
       "1                     0                       0                0   \n",
       "2                     0                       0                0   \n",
       "3                     0                       0                1   \n",
       "4                     0                       0                0   \n",
       "\n",
       "   education_ 12th  ...  na_ Trinadad&Tobago  na_ United-States  na_ Vietnam  \\\n",
       "0                0  ...                    0                  1            0   \n",
       "1                0  ...                    0                  1            0   \n",
       "2                0  ...                    0                  1            0   \n",
       "3                0  ...                    0                  1            0   \n",
       "4                0  ...                    0                  0            0   \n",
       "\n",
       "   na_ Yugoslavia       age    fnlwgt  education-num       cg   cl        hw  \n",
       "0               0  0.301370  0.044302       0.800000  0.02174  0.0  0.397959  \n",
       "1               0  0.452055  0.048238       0.800000  0.00000  0.0  0.122449  \n",
       "2               0  0.287671  0.138113       0.533333  0.00000  0.0  0.397959  \n",
       "3               0  0.493151  0.151068       0.400000  0.00000  0.0  0.397959  \n",
       "4               0  0.150685  0.221488       0.800000  0.00000  0.0  0.397959  \n",
       "\n",
       "[5 rows x 100 columns]"
      ]
     },
     "execution_count": 5,
     "metadata": {},
     "output_type": "execute_result"
    }
   ],
   "source": [
    "X = df.drop(['age', 'fnlwgt', 'education-num', 'cg', 'cl', 'hw', '5k'], axis=1) #드롭시키고나서\n",
    "X = pd.get_dummies(X, drop_first=True) # 각각의 스트링데이터들을 원핫인코딩 시켰음\n",
    "X = pd.concat([X, df[['age', 'fnlwgt', 'education-num', 'cg', 'cl', 'hw']]], axis=1) #피쳐들을 다시 합침\n",
    "\n",
    "scaler = MinMaxScaler() #숫자들에 대한 컬럼들을 스케일러 api를 통해서 0~1사이의 값으로 매칭시킴\n",
    "\n",
    "X[['age', 'fnlwgt', 'education-num', 'cg', 'cl', 'hw']] = scaler.fit_transform(X[['age', 'fnlwgt', 'education-num', 'cg', 'cl', 'hw']])\n",
    "\n",
    "X.head()"
   ]
  },
  {
   "cell_type": "code",
   "execution_count": 6,
   "metadata": {},
   "outputs": [
    {
     "data": {
      "text/plain": [
       "(31561, 100)"
      ]
     },
     "execution_count": 6,
     "metadata": {},
     "output_type": "execute_result"
    }
   ],
   "source": [
    "X_train = X[:-1000]\n",
    "X_test =X[-1000:]\n",
    "\n",
    "Y_train = Y[:-1000]\n",
    "Y_test = Y[-1000:]\n",
    "\n",
    "X_train.shape #31561개의 데이터가 있고 각각의 데이터는 100개의 피쳐를 가지고 있다.\n"
   ]
  },
  {
   "cell_type": "code",
   "execution_count": 7,
   "metadata": {},
   "outputs": [
    {
     "name": "stderr",
     "output_type": "stream",
     "text": [
      "WARNING: Logging before flag parsing goes to stderr.\n",
      "W0820 00:43:03.411910  4292 deprecation_wrapper.py:119] From C:\\Users\\brb11\\Anaconda3\\lib\\site-packages\\keras\\backend\\tensorflow_backend.py:74: The name tf.get_default_graph is deprecated. Please use tf.compat.v1.get_default_graph instead.\n",
      "\n",
      "W0820 00:43:03.425028  4292 deprecation_wrapper.py:119] From C:\\Users\\brb11\\Anaconda3\\lib\\site-packages\\keras\\backend\\tensorflow_backend.py:517: The name tf.placeholder is deprecated. Please use tf.compat.v1.placeholder instead.\n",
      "\n",
      "W0820 00:43:03.427031  4292 deprecation_wrapper.py:119] From C:\\Users\\brb11\\Anaconda3\\lib\\site-packages\\keras\\backend\\tensorflow_backend.py:4138: The name tf.random_uniform is deprecated. Please use tf.random.uniform instead.\n",
      "\n",
      "W0820 00:43:03.459059  4292 deprecation_wrapper.py:119] From C:\\Users\\brb11\\Anaconda3\\lib\\site-packages\\keras\\optimizers.py:790: The name tf.train.Optimizer is deprecated. Please use tf.compat.v1.train.Optimizer instead.\n",
      "\n",
      "W0820 00:43:03.474073  4292 deprecation_wrapper.py:119] From C:\\Users\\brb11\\Anaconda3\\lib\\site-packages\\keras\\backend\\tensorflow_backend.py:3295: The name tf.log is deprecated. Please use tf.math.log instead.\n",
      "\n"
     ]
    },
    {
     "name": "stdout",
     "output_type": "stream",
     "text": [
      "_________________________________________________________________\n",
      "Layer (type)                 Output Shape              Param #   \n",
      "=================================================================\n",
      "dense_1 (Dense)              (None, 1024)              103424    \n",
      "_________________________________________________________________\n",
      "dense_2 (Dense)              (None, 512)               524800    \n",
      "_________________________________________________________________\n",
      "dense_3 (Dense)              (None, 128)               65664     \n",
      "_________________________________________________________________\n",
      "dense_4 (Dense)              (None, 2)                 258       \n",
      "=================================================================\n",
      "Total params: 694,146\n",
      "Trainable params: 694,146\n",
      "Non-trainable params: 0\n",
      "_________________________________________________________________\n"
     ]
    },
    {
     "name": "stderr",
     "output_type": "stream",
     "text": [
      "W0820 00:43:03.536137  4292 deprecation.py:323] From C:\\Users\\brb11\\Anaconda3\\lib\\site-packages\\tensorflow\\python\\ops\\math_grad.py:1250: add_dispatch_support.<locals>.wrapper (from tensorflow.python.ops.array_ops) is deprecated and will be removed in a future version.\n",
      "Instructions for updating:\n",
      "Use tf.where in 2.0, which has the same broadcast rule as np.where\n",
      "W0820 00:43:03.570677  4292 deprecation_wrapper.py:119] From C:\\Users\\brb11\\Anaconda3\\lib\\site-packages\\keras\\backend\\tensorflow_backend.py:986: The name tf.assign_add is deprecated. Please use tf.compat.v1.assign_add instead.\n",
      "\n"
     ]
    },
    {
     "name": "stdout",
     "output_type": "stream",
     "text": [
      "Train on 25248 samples, validate on 6313 samples\n",
      "Epoch 1/5\n",
      "25248/25248 [==============================] - 4s 144us/step - loss: 0.4348 - acc: 0.7967 - val_loss: 0.3791 - val_acc: 0.8283\n",
      "Epoch 2/5\n",
      "25248/25248 [==============================] - 3s 137us/step - loss: 0.3649 - acc: 0.8314 - val_loss: 0.3636 - val_acc: 0.8302\n",
      "Epoch 3/5\n",
      "25248/25248 [==============================] - 3s 137us/step - loss: 0.3531 - acc: 0.8347 - val_loss: 0.3512 - val_acc: 0.8351\n",
      "Epoch 4/5\n",
      "25248/25248 [==============================] - 4s 139us/step - loss: 0.3458 - acc: 0.8382 - val_loss: 0.3431 - val_acc: 0.8411\n",
      "Epoch 5/5\n",
      "25248/25248 [==============================] - 4s 139us/step - loss: 0.3410 - acc: 0.8421 - val_loss: 0.3392 - val_acc: 0.8429\n"
     ]
    }
   ],
   "source": [
    "#모델 구성\n",
    "model = Sequential()\n",
    "model.add(Dense(1024, activation='relu', input_shape=(100,)))\n",
    "model.add(Dense(512, activation='relu'))\n",
    "model.add(Dense(128, activation='relu'))\n",
    "model.add(Dense(2, activation='softmax'))\n",
    "model.summary()\n",
    "\n",
    "\n",
    "#adam이나 rmspropr 이라는 옵티마이저를 쓸 수도 있음\n",
    "model.compile(loss='categorical_crossentropy', optimizer='sgd', metrics=['accuracy'])\n",
    "\n",
    "# validation_split은 인풋데이터를 줬을 때 이 중 0.2퍼센트는 \n",
    "# 자기가 백프로퍼게이션을 중 랜덤하게 나머지를 가지고 트레이닝 도중 테스트를 하여 accuracy를 계산\n",
    "hist = model.fit(X_train, Y_train, epochs=5, validation_split=0.2) \n"
   ]
  },
  {
   "cell_type": "code",
   "execution_count": 8,
   "metadata": {},
   "outputs": [
    {
     "name": "stdout",
     "output_type": "stream",
     "text": [
      "{'val_loss': [0.3791142080422345, 0.3636340662688324, 0.3511697441438629, 0.3431153306771473, 0.3391761985753052], 'val_acc': [0.8282908284775564, 0.8301916680055773, 0.8351021701440218, 0.8411214953459859, 0.8428639315886598], 'loss': [0.4347530649113262, 0.36488818338539813, 0.35311614335791996, 0.34583449511020353, 0.3409641812282823], 'acc': [0.7967363751584284, 0.8313529784537389, 0.8346799746514575, 0.8382446134347274, 0.8421261089987325]}\n"
     ]
    },
    {
     "data": {
      "text/plain": [
       "Text(0.5, 1.0, 'loss')"
      ]
     },
     "execution_count": 8,
     "metadata": {},
     "output_type": "execute_result"
    },
    {
     "data": {
      "image/png": "[encoded data removed]",
      "text/plain": [
       "<Figure size 648x648 with 2 Axes>"
      ]
     },
     "metadata": {
      "needs_background": "light"
     },
     "output_type": "display_data"
    }
   ],
   "source": [
    "print(hist.history)\n",
    "\n",
    "plt.figure(figsize=(9,9))\n",
    "plt.subplot(1, 2, 1)\n",
    "plt.plot(hist.history['acc'], color='r')\n",
    "plt.plot(hist.history['val_acc'], color='b')\n",
    "plt.title('acc')\n",
    "\n",
    "plt.subplot(1, 2, 2)\n",
    "plt.plot(hist.history['loss'], color='r')\n",
    "plt.plot(hist.history['val_loss'], color='b')\n",
    "plt.title('loss')\n"
   ]
  },
  {
   "cell_type": "code",
   "execution_count": 9,
   "metadata": {},
   "outputs": [
    {
     "name": "stdout",
     "output_type": "stream",
     "text": [
      "1000/1000 [==============================] - 0s 18us/step\n",
      "[0.35534881019592285, 0.815]\n",
      "[[0.8392324  0.1607676 ]\n",
      " [0.05834896 0.94165105]\n",
      " [0.49962294 0.5003771 ]\n",
      " [0.05891647 0.94108355]\n",
      " [0.855304   0.14469598]\n",
      " [0.02796294 0.9720371 ]\n",
      " [0.02298889 0.97701114]\n",
      " [0.01096183 0.9890381 ]\n",
      " [0.35842267 0.6415773 ]\n",
      " [0.02014569 0.9798543 ]]\n",
      "[[0. 1.]\n",
      " [0. 1.]\n",
      " [0. 1.]\n",
      " [0. 1.]\n",
      " [0. 1.]\n",
      " [0. 1.]\n",
      " [0. 1.]\n",
      " [1. 0.]\n",
      " [1. 0.]\n",
      " [1. 0.]]\n"
     ]
    }
   ],
   "source": [
    "score = model.evaluate(X_test, Y_test)\n",
    "pred = model.predict(X_test)\n",
    "print(score)\n",
    "\n",
    "print(pred[:10])\n",
    "print(Y[:10])"
   ]
  }
 ],
 "metadata": {
  "kernelspec": {
   "display_name": "Python 3",
   "language": "python",
   "name": "python3"
  },
  "language_info": {
   "codemirror_mode": {
    "name": "ipython",
    "version": 3
   },
   "file_extension": ".py",
   "mimetype": "text/x-python",
   "name": "python",
   "nbconvert_exporter": "python",
   "pygments_lexer": "ipython3",
   "version": "3.7.4"
  }
 },
 "nbformat": 4,
 "nbformat_minor": 2
}
